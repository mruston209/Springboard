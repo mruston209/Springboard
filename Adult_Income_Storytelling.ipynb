{
 "cells": [
  {
   "cell_type": "code",
   "execution_count": null,
   "id": "a3a610d9",
   "metadata": {},
   "outputs": [],
   "source": [
    "### Author: Michael Ruston\n",
    "### Date: 4/20/22\n",
    "### Springboard Assignment: \"Craft a story from a dataset\"\n",
    "### Dataset taken from kaggle.com\n",
    "### dataset URL:\n",
    "### https://www.kaggle.com/datasets/wenruliu/adult-income-dataset\n",
    "###\n"
   ]
  },
  {
   "cell_type": "code",
   "execution_count": 1,
   "id": "dbaace7a",
   "metadata": {},
   "outputs": [],
   "source": [
    "### Start by loading packages:\n",
    "\n",
    "import pandas as pd\n",
    "import numpy as np\n",
    "import matplotlib.pyplot as plt\n",
    "import seaborn as sns\n"
   ]
  },
  {
   "cell_type": "code",
   "execution_count": 2,
   "id": "5456f627",
   "metadata": {},
   "outputs": [],
   "source": [
    "### Now load the dataset:\n",
    "\n",
    "df = pd.read_csv('adult.csv')\n"
   ]
  },
  {
   "cell_type": "code",
   "execution_count": 3,
   "id": "6c5b0b24",
   "metadata": {},
   "outputs": [
    {
     "data": {
      "text/html": [
       "<div>\n",
       "<style scoped>\n",
       "    .dataframe tbody tr th:only-of-type {\n",
       "        vertical-align: middle;\n",
       "    }\n",
       "\n",
       "    .dataframe tbody tr th {\n",
       "        vertical-align: top;\n",
       "    }\n",
       "\n",
       "    .dataframe thead th {\n",
       "        text-align: right;\n",
       "    }\n",
       "</style>\n",
       "<table border=\"1\" class=\"dataframe\">\n",
       "  <thead>\n",
       "    <tr style=\"text-align: right;\">\n",
       "      <th></th>\n",
       "      <th>age</th>\n",
       "      <th>workclass</th>\n",
       "      <th>fnlwgt</th>\n",
       "      <th>education</th>\n",
       "      <th>educational-num</th>\n",
       "      <th>marital-status</th>\n",
       "      <th>occupation</th>\n",
       "      <th>relationship</th>\n",
       "      <th>race</th>\n",
       "      <th>gender</th>\n",
       "      <th>capital-gain</th>\n",
       "      <th>capital-loss</th>\n",
       "      <th>hours-per-week</th>\n",
       "      <th>native-country</th>\n",
       "      <th>income</th>\n",
       "    </tr>\n",
       "  </thead>\n",
       "  <tbody>\n",
       "    <tr>\n",
       "      <th>0</th>\n",
       "      <td>25</td>\n",
       "      <td>Private</td>\n",
       "      <td>226802</td>\n",
       "      <td>11th</td>\n",
       "      <td>7</td>\n",
       "      <td>Never-married</td>\n",
       "      <td>Machine-op-inspct</td>\n",
       "      <td>Own-child</td>\n",
       "      <td>Black</td>\n",
       "      <td>Male</td>\n",
       "      <td>0</td>\n",
       "      <td>0</td>\n",
       "      <td>40</td>\n",
       "      <td>United-States</td>\n",
       "      <td>&lt;=50K</td>\n",
       "    </tr>\n",
       "    <tr>\n",
       "      <th>1</th>\n",
       "      <td>38</td>\n",
       "      <td>Private</td>\n",
       "      <td>89814</td>\n",
       "      <td>HS-grad</td>\n",
       "      <td>9</td>\n",
       "      <td>Married-civ-spouse</td>\n",
       "      <td>Farming-fishing</td>\n",
       "      <td>Husband</td>\n",
       "      <td>White</td>\n",
       "      <td>Male</td>\n",
       "      <td>0</td>\n",
       "      <td>0</td>\n",
       "      <td>50</td>\n",
       "      <td>United-States</td>\n",
       "      <td>&lt;=50K</td>\n",
       "    </tr>\n",
       "    <tr>\n",
       "      <th>2</th>\n",
       "      <td>28</td>\n",
       "      <td>Local-gov</td>\n",
       "      <td>336951</td>\n",
       "      <td>Assoc-acdm</td>\n",
       "      <td>12</td>\n",
       "      <td>Married-civ-spouse</td>\n",
       "      <td>Protective-serv</td>\n",
       "      <td>Husband</td>\n",
       "      <td>White</td>\n",
       "      <td>Male</td>\n",
       "      <td>0</td>\n",
       "      <td>0</td>\n",
       "      <td>40</td>\n",
       "      <td>United-States</td>\n",
       "      <td>&gt;50K</td>\n",
       "    </tr>\n",
       "    <tr>\n",
       "      <th>3</th>\n",
       "      <td>44</td>\n",
       "      <td>Private</td>\n",
       "      <td>160323</td>\n",
       "      <td>Some-college</td>\n",
       "      <td>10</td>\n",
       "      <td>Married-civ-spouse</td>\n",
       "      <td>Machine-op-inspct</td>\n",
       "      <td>Husband</td>\n",
       "      <td>Black</td>\n",
       "      <td>Male</td>\n",
       "      <td>7688</td>\n",
       "      <td>0</td>\n",
       "      <td>40</td>\n",
       "      <td>United-States</td>\n",
       "      <td>&gt;50K</td>\n",
       "    </tr>\n",
       "    <tr>\n",
       "      <th>4</th>\n",
       "      <td>18</td>\n",
       "      <td>?</td>\n",
       "      <td>103497</td>\n",
       "      <td>Some-college</td>\n",
       "      <td>10</td>\n",
       "      <td>Never-married</td>\n",
       "      <td>?</td>\n",
       "      <td>Own-child</td>\n",
       "      <td>White</td>\n",
       "      <td>Female</td>\n",
       "      <td>0</td>\n",
       "      <td>0</td>\n",
       "      <td>30</td>\n",
       "      <td>United-States</td>\n",
       "      <td>&lt;=50K</td>\n",
       "    </tr>\n",
       "  </tbody>\n",
       "</table>\n",
       "</div>"
      ],
      "text/plain": [
       "   age  workclass  fnlwgt     education  educational-num      marital-status  \\\n",
       "0   25    Private  226802          11th                7       Never-married   \n",
       "1   38    Private   89814       HS-grad                9  Married-civ-spouse   \n",
       "2   28  Local-gov  336951    Assoc-acdm               12  Married-civ-spouse   \n",
       "3   44    Private  160323  Some-college               10  Married-civ-spouse   \n",
       "4   18          ?  103497  Some-college               10       Never-married   \n",
       "\n",
       "          occupation relationship   race  gender  capital-gain  capital-loss  \\\n",
       "0  Machine-op-inspct    Own-child  Black    Male             0             0   \n",
       "1    Farming-fishing      Husband  White    Male             0             0   \n",
       "2    Protective-serv      Husband  White    Male             0             0   \n",
       "3  Machine-op-inspct      Husband  Black    Male          7688             0   \n",
       "4                  ?    Own-child  White  Female             0             0   \n",
       "\n",
       "   hours-per-week native-country income  \n",
       "0              40  United-States  <=50K  \n",
       "1              50  United-States  <=50K  \n",
       "2              40  United-States   >50K  \n",
       "3              40  United-States   >50K  \n",
       "4              30  United-States  <=50K  "
      ]
     },
     "execution_count": 3,
     "metadata": {},
     "output_type": "execute_result"
    }
   ],
   "source": [
    "### Initial look at the dataframe just imported:\n",
    "\n",
    "df.head()\n"
   ]
  },
  {
   "cell_type": "code",
   "execution_count": 6,
   "id": "79abdd41",
   "metadata": {},
   "outputs": [
    {
     "data": {
      "text/plain": [
       "(48842, 15)"
      ]
     },
     "execution_count": 6,
     "metadata": {},
     "output_type": "execute_result"
    }
   ],
   "source": [
    "df.shape"
   ]
  },
  {
   "cell_type": "code",
   "execution_count": 5,
   "id": "3e0ba285",
   "metadata": {},
   "outputs": [
    {
     "data": {
      "text/plain": [
       "<=50K    0.760718\n",
       ">50K     0.239282\n",
       "Name: income, dtype: float64"
      ]
     },
     "execution_count": 5,
     "metadata": {},
     "output_type": "execute_result"
    }
   ],
   "source": [
    "### I notice that income is not a continuous variable, but rather a binary variable.\n",
    "\n",
    "df.income.value_counts(normalize=True)\n"
   ]
  },
  {
   "cell_type": "code",
   "execution_count": 7,
   "id": "b5b7edd6",
   "metadata": {},
   "outputs": [
    {
     "data": {
      "text/plain": [
       "36    1348\n",
       "35    1337\n",
       "33    1335\n",
       "23    1329\n",
       "31    1325\n",
       "      ... \n",
       "88       6\n",
       "85       5\n",
       "87       3\n",
       "89       2\n",
       "86       1\n",
       "Name: age, Length: 74, dtype: int64"
      ]
     },
     "execution_count": 7,
     "metadata": {},
     "output_type": "execute_result"
    }
   ],
   "source": [
    "### OK, so we have over 48k rows of people\n",
    "### about 76% have an income under $50K, and about 24% have an income > $50k.\n",
    "### Next let's look at the other columns, starting from the left.\n",
    "\n",
    "df.age.value_counts() ### 74 different ages represented!\n"
   ]
  },
  {
   "cell_type": "code",
   "execution_count": 10,
   "id": "cb94f1ba",
   "metadata": {},
   "outputs": [
    {
     "data": {
      "text/plain": [
       "<AxesSubplot:xlabel='age', ylabel='Count'>"
      ]
     },
     "execution_count": 10,
     "metadata": {},
     "output_type": "execute_result"
    },
    {
     "data": {
      "image/png": "[encoded data removed]",
      "text/plain": [
       "<Figure size 432x288 with 1 Axes>"
      ]
     },
     "metadata": {
      "needs_background": "light"
     },
     "output_type": "display_data"
    }
   ],
   "source": [
    "sns.histplot( df.age )  ### Interesting looking plot, we have some spikes. Could be due to binning.\n"
   ]
  },
  {
   "cell_type": "code",
   "execution_count": 11,
   "id": "1d651d46",
   "metadata": {},
   "outputs": [
    {
     "data": {
      "text/plain": [
       "<AxesSubplot:xlabel='age', ylabel='Count'>"
      ]
     },
     "execution_count": 11,
     "metadata": {},
     "output_type": "execute_result"
    },
    {
     "data": {
      "image/png": "[encoded data removed]",
      "text/plain": [
       "<Figure size 432x288 with 1 Axes>"
      ]
     },
     "metadata": {
      "needs_background": "light"
     },
     "output_type": "display_data"
    }
   ],
   "source": [
    "sns.histplot( df.age, bins=74)  ### OK, now there aren't spikes. Spikes probably due to bin sizes."
   ]
  },
  {
   "cell_type": "code",
   "execution_count": 12,
   "id": "41d67f1d",
   "metadata": {},
   "outputs": [
    {
     "data": {
      "text/plain": [
       "Private             33906\n",
       "Self-emp-not-inc     3862\n",
       "Local-gov            3136\n",
       "?                    2799\n",
       "State-gov            1981\n",
       "Self-emp-inc         1695\n",
       "Federal-gov          1432\n",
       "Without-pay            21\n",
       "Never-worked           10\n",
       "Name: workclass, dtype: int64"
      ]
     },
     "execution_count": 12,
     "metadata": {},
     "output_type": "execute_result"
    }
   ],
   "source": [
    "### Moving on for now, will come back to age later to put into decade bins.\n",
    "\n",
    "df['workclass'].value_counts()\n",
    "\n",
    "### We have mostly 'Private' as the workclass\n",
    "### Some self-employed, some in government, and about 2800 missing values."
   ]
  },
  {
   "cell_type": "code",
   "execution_count": 13,
   "id": "bd866f23",
   "metadata": {},
   "outputs": [
    {
     "data": {
      "text/plain": [
       "<AxesSubplot:xlabel='fnlwgt', ylabel='Count'>"
      ]
     },
     "execution_count": 13,
     "metadata": {},
     "output_type": "execute_result"
    },
    {
     "data": {
      "image/png": "[encoded data removed]",
      "text/plain": [
       "<Figure size 432x288 with 1 Axes>"
      ]
     },
     "metadata": {
      "needs_background": "light"
     },
     "output_type": "display_data"
    }
   ],
   "source": [
    "### Now looking at the next column: 'fnlwgt'\n",
    "\n",
    "sns.histplot(  df['fnlwgt'] )\n",
    "\n",
    "### Not really sure what this column is used for, skipping it for now.\n"
   ]
  },
  {
   "cell_type": "code",
   "execution_count": 14,
   "id": "101ebd06",
   "metadata": {},
   "outputs": [
    {
     "data": {
      "text/plain": [
       "HS-grad         15784\n",
       "Some-college    10878\n",
       "Bachelors        8025\n",
       "Masters          2657\n",
       "Assoc-voc        2061\n",
       "11th             1812\n",
       "Assoc-acdm       1601\n",
       "10th             1389\n",
       "7th-8th           955\n",
       "Prof-school       834\n",
       "9th               756\n",
       "12th              657\n",
       "Doctorate         594\n",
       "5th-6th           509\n",
       "1st-4th           247\n",
       "Preschool          83\n",
       "Name: education, dtype: int64"
      ]
     },
     "execution_count": 14,
     "metadata": {},
     "output_type": "execute_result"
    }
   ],
   "source": [
    "### Now looking at the education column:\n",
    "\n",
    "df['education'].value_counts()\n"
   ]
  },
  {
   "cell_type": "code",
   "execution_count": 15,
   "id": "f07d3ad0",
   "metadata": {},
   "outputs": [
    {
     "data": {
      "text/plain": [
       "9     15784\n",
       "10    10878\n",
       "13     8025\n",
       "14     2657\n",
       "11     2061\n",
       "7      1812\n",
       "12     1601\n",
       "6      1389\n",
       "4       955\n",
       "15      834\n",
       "5       756\n",
       "8       657\n",
       "16      594\n",
       "3       509\n",
       "2       247\n",
       "1        83\n",
       "Name: educational-num, dtype: int64"
      ]
     },
     "execution_count": 15,
     "metadata": {},
     "output_type": "execute_result"
    }
   ],
   "source": [
    "### Most common values are 'HS-grad' and 'Some-college'\n",
    "\n",
    "df['educational-num'].value_counts()\n",
    "### 16 educational numbers ranging from 1 \"Preschool\", to 16 \"Doctorate\"\n"
   ]
  },
  {
   "cell_type": "code",
   "execution_count": 25,
   "id": "188d464f",
   "metadata": {},
   "outputs": [
    {
     "data": {
      "text/plain": [
       "educational-num  income\n",
       "1                <=50K     0.987952\n",
       "                 >50K      0.012048\n",
       "2                <=50K     0.967611\n",
       "                 >50K      0.032389\n",
       "3                <=50K     0.946955\n",
       "                 >50K      0.053045\n",
       "4                <=50K     0.935079\n",
       "                 >50K      0.064921\n",
       "5                <=50K     0.945767\n",
       "                 >50K      0.054233\n",
       "6                <=50K     0.937365\n",
       "                 >50K      0.062635\n",
       "7                <=50K     0.949227\n",
       "                 >50K      0.050773\n",
       "8                <=50K     0.926941\n",
       "                 >50K      0.073059\n",
       "9                <=50K     0.841422\n",
       "                 >50K      0.158578\n",
       "10               <=50K     0.810351\n",
       "                 >50K      0.189649\n",
       "11               <=50K     0.746725\n",
       "                 >50K      0.253275\n",
       "12               <=50K     0.742036\n",
       "                 >50K      0.257964\n",
       "13               <=50K     0.587165\n",
       "                 >50K      0.412835\n",
       "14               >50K      0.549116\n",
       "                 <=50K     0.450884\n",
       "15               >50K      0.739808\n",
       "                 <=50K     0.260192\n",
       "16               >50K      0.725589\n",
       "                 <=50K     0.274411\n",
       "Name: income, dtype: float64"
      ]
     },
     "execution_count": 25,
     "metadata": {},
     "output_type": "execute_result"
    }
   ],
   "source": [
    "### Let's look at the income column conditioned on the educational-num column.\n",
    "\n",
    "df.groupby('educational-num')['income'].value_counts(normalize=True)\n",
    "\n",
    "### Ok, now to plot this:\n",
    "temp = df.groupby('educational-num')['income'].value_counts(normalize=True)\n",
    "temp"
   ]
  },
  {
   "cell_type": "code",
   "execution_count": 26,
   "id": "95bad957",
   "metadata": {},
   "outputs": [
    {
     "data": {
      "text/plain": [
       "educational-num  income\n",
       "1                <=50K     0.987952\n",
       "                 >50K      0.012048\n",
       "2                <=50K     0.967611\n",
       "                 >50K      0.032389\n",
       "3                <=50K     0.946955\n",
       "Name: income, dtype: float64"
      ]
     },
     "execution_count": 26,
     "metadata": {},
     "output_type": "execute_result"
    }
   ],
   "source": [
    "temp.head()"
   ]
  },
  {
   "cell_type": "code",
   "execution_count": 31,
   "id": "f2a131dd",
   "metadata": {},
   "outputs": [
    {
     "data": {
      "text/plain": [
       "0.05304518664047151"
      ]
     },
     "execution_count": 31,
     "metadata": {},
     "output_type": "execute_result"
    }
   ],
   "source": [
    "temp.index\n",
    "\n",
    "temp[(1,'<=50K')]\n",
    "temp[(2,'<=50K')]\n",
    "temp[(3,'>50K')]\n"
   ]
  },
  {
   "cell_type": "code",
   "execution_count": 64,
   "id": "686743f8",
   "metadata": {},
   "outputs": [
    {
     "data": {
      "text/plain": [
       "Text(0.5, 1.0, 'Percentage over $50K income, by Educational attainment')"
      ]
     },
     "execution_count": 64,
     "metadata": {},
     "output_type": "execute_result"
    },
    {
     "data": {
      "image/png": "[encoded data removed]",
      "text/plain": [
       "<Figure size 432x288 with 1 Axes>"
      ]
     },
     "metadata": {
      "needs_background": "light"
     },
     "output_type": "display_data"
    }
   ],
   "source": [
    "### temp[:]['>50K']\n",
    "\n",
    "temp[:]\n",
    "temp2 = pd.DataFrame(temp)\n",
    "\n",
    "temp2 = temp2.rename(columns={'income':'percentage'})\n",
    "\n",
    "temp2 = temp2.reset_index()\n",
    "\n",
    "temp2[temp2.income == '>50K']['percentage']\n",
    "\n",
    "sns.lineplot(x=range(1,17), y=temp2[temp2.income == '>50K']['percentage'] ).set_title('Percentage over $50K income, by Educational attainment')\n"
   ]
  },
  {
   "cell_type": "code",
   "execution_count": 66,
   "id": "d8fc6785",
   "metadata": {},
   "outputs": [
    {
     "data": {
      "text/plain": [
       "Married-civ-spouse       22379\n",
       "Never-married            16117\n",
       "Divorced                  6633\n",
       "Separated                 1530\n",
       "Widowed                   1518\n",
       "Married-spouse-absent      628\n",
       "Married-AF-spouse           37\n",
       "Name: marital-status, dtype: int64"
      ]
     },
     "execution_count": 66,
     "metadata": {},
     "output_type": "execute_result"
    }
   ],
   "source": [
    "\n",
    "df['marital-status'].value_counts()\n",
    "\n"
   ]
  },
  {
   "cell_type": "code",
   "execution_count": 67,
   "id": "dc19ec25",
   "metadata": {},
   "outputs": [
    {
     "data": {
      "text/plain": [
       "marital-status         income\n",
       "Divorced               <=50K     0.898839\n",
       "                       >50K      0.101161\n",
       "Married-AF-spouse      <=50K     0.621622\n",
       "                       >50K      0.378378\n",
       "Married-civ-spouse     <=50K     0.553867\n",
       "                       >50K      0.446133\n",
       "Married-spouse-absent  <=50K     0.907643\n",
       "                       >50K      0.092357\n",
       "Never-married          <=50K     0.954520\n",
       "                       >50K      0.045480\n",
       "Separated              <=50K     0.935294\n",
       "                       >50K      0.064706\n",
       "Widowed                <=50K     0.915679\n",
       "                       >50K      0.084321\n",
       "Name: income, dtype: float64"
      ]
     },
     "execution_count": 67,
     "metadata": {},
     "output_type": "execute_result"
    }
   ],
   "source": [
    "df.groupby('marital-status')['income'].value_counts(normalize=True)"
   ]
  },
  {
   "cell_type": "code",
   "execution_count": 78,
   "id": "80c32fbe",
   "metadata": {},
   "outputs": [
    {
     "data": {
      "text/html": [
       "<div>\n",
       "<style scoped>\n",
       "    .dataframe tbody tr th:only-of-type {\n",
       "        vertical-align: middle;\n",
       "    }\n",
       "\n",
       "    .dataframe tbody tr th {\n",
       "        vertical-align: top;\n",
       "    }\n",
       "\n",
       "    .dataframe thead th {\n",
       "        text-align: right;\n",
       "    }\n",
       "</style>\n",
       "<table border=\"1\" class=\"dataframe\">\n",
       "  <thead>\n",
       "    <tr style=\"text-align: right;\">\n",
       "      <th></th>\n",
       "      <th>marital-status</th>\n",
       "      <th>income</th>\n",
       "      <th>percent</th>\n",
       "    </tr>\n",
       "  </thead>\n",
       "  <tbody>\n",
       "    <tr>\n",
       "      <th>1</th>\n",
       "      <td>Divorced</td>\n",
       "      <td>&gt;50K</td>\n",
       "      <td>0.101161</td>\n",
       "    </tr>\n",
       "    <tr>\n",
       "      <th>5</th>\n",
       "      <td>Married-civ-spouse</td>\n",
       "      <td>&gt;50K</td>\n",
       "      <td>0.446133</td>\n",
       "    </tr>\n",
       "    <tr>\n",
       "      <th>9</th>\n",
       "      <td>Never-married</td>\n",
       "      <td>&gt;50K</td>\n",
       "      <td>0.045480</td>\n",
       "    </tr>\n",
       "  </tbody>\n",
       "</table>\n",
       "</div>"
      ],
      "text/plain": [
       "       marital-status income   percent\n",
       "1            Divorced   >50K  0.101161\n",
       "5  Married-civ-spouse   >50K  0.446133\n",
       "9       Never-married   >50K  0.045480"
      ]
     },
     "execution_count": 78,
     "metadata": {},
     "output_type": "execute_result"
    }
   ],
   "source": [
    "temp = df.groupby('marital-status')['income'].value_counts(normalize=True)\n",
    "\n",
    "temp = pd.DataFrame(temp)\n",
    "\n",
    "temp = temp.rename(columns={'income':'percent'})\n",
    "\n",
    "temp = temp.reset_index()\n",
    "\n",
    "temp[ (temp.income == '>50K') & (temp['marital-status'].isin(['Never-married','Married-civ-spouse','Divorced'])) ]\n"
   ]
  },
  {
   "cell_type": "code",
   "execution_count": null,
   "id": "945c4f21",
   "metadata": {},
   "outputs": [],
   "source": [
    "### Quite a take-away here!\n",
    "### Top three values of the marital-status category are shown above.\n",
    "### Those in the 'Married-civ-spouse' category earn over $50K about 44.6% of the time.\n",
    "### Divorced individuals only earn over $50k about 10.1% of the time.\n",
    "### Only 4.5% of 'Never-married' individuals earn over $50k.\n",
    "### This is probably partially a proxy variable for age, with older people earning more, on average.\n"
   ]
  },
  {
   "cell_type": "code",
   "execution_count": 79,
   "id": "82a29314",
   "metadata": {},
   "outputs": [
    {
     "data": {
      "text/plain": [
       "Prof-specialty       6172\n",
       "Craft-repair         6112\n",
       "Exec-managerial      6086\n",
       "Adm-clerical         5611\n",
       "Sales                5504\n",
       "Other-service        4923\n",
       "Machine-op-inspct    3022\n",
       "?                    2809\n",
       "Transport-moving     2355\n",
       "Handlers-cleaners    2072\n",
       "Farming-fishing      1490\n",
       "Tech-support         1446\n",
       "Protective-serv       983\n",
       "Priv-house-serv       242\n",
       "Armed-Forces           15\n",
       "Name: occupation, dtype: int64"
      ]
     },
     "execution_count": 79,
     "metadata": {},
     "output_type": "execute_result"
    }
   ],
   "source": [
    "df['occupation'].value_counts()\n",
    "### Not that many unique values of 'occupation', as seen below\n"
   ]
  },
  {
   "cell_type": "code",
   "execution_count": 80,
   "id": "8c7e00fa",
   "metadata": {},
   "outputs": [
    {
     "data": {
      "text/plain": [
       "occupation         income\n",
       "?                  <=50K     0.905660\n",
       "                   >50K      0.094340\n",
       "Adm-clerical       <=50K     0.863126\n",
       "                   >50K      0.136874\n",
       "Armed-Forces       <=50K     0.666667\n",
       "                   >50K      0.333333\n",
       "Craft-repair       <=50K     0.773724\n",
       "                   >50K      0.226276\n",
       "Exec-managerial    <=50K     0.522182\n",
       "                   >50K      0.477818\n",
       "Farming-fishing    <=50K     0.883893\n",
       "                   >50K      0.116107\n",
       "Handlers-cleaners  <=50K     0.933398\n",
       "                   >50K      0.066602\n",
       "Machine-op-inspct  <=50K     0.876903\n",
       "                   >50K      0.123097\n",
       "Other-service      <=50K     0.958562\n",
       "                   >50K      0.041438\n",
       "Priv-house-serv    <=50K     0.987603\n",
       "                   >50K      0.012397\n",
       "Prof-specialty     <=50K     0.548931\n",
       "                   >50K      0.451069\n",
       "Protective-serv    <=50K     0.686673\n",
       "                   >50K      0.313327\n",
       "Sales              <=50K     0.732013\n",
       "                   >50K      0.267987\n",
       "Tech-support       <=50K     0.709544\n",
       "                   >50K      0.290456\n",
       "Transport-moving   <=50K     0.795754\n",
       "                   >50K      0.204246\n",
       "Name: income, dtype: float64"
      ]
     },
     "execution_count": 80,
     "metadata": {},
     "output_type": "execute_result"
    }
   ],
   "source": [
    "df.groupby('occupation')['income'].value_counts(normalize=True)"
   ]
  },
  {
   "cell_type": "code",
   "execution_count": 99,
   "id": "e3532c4b",
   "metadata": {},
   "outputs": [
    {
     "data": {
      "text/html": [
       "<div>\n",
       "<style scoped>\n",
       "    .dataframe tbody tr th:only-of-type {\n",
       "        vertical-align: middle;\n",
       "    }\n",
       "\n",
       "    .dataframe tbody tr th {\n",
       "        vertical-align: top;\n",
       "    }\n",
       "\n",
       "    .dataframe thead th {\n",
       "        text-align: right;\n",
       "    }\n",
       "</style>\n",
       "<table border=\"1\" class=\"dataframe\">\n",
       "  <thead>\n",
       "    <tr style=\"text-align: right;\">\n",
       "      <th></th>\n",
       "      <th>occupation</th>\n",
       "      <th>percentage</th>\n",
       "    </tr>\n",
       "  </thead>\n",
       "  <tbody>\n",
       "    <tr>\n",
       "      <th>1</th>\n",
       "      <td>?</td>\n",
       "      <td>0.094340</td>\n",
       "    </tr>\n",
       "    <tr>\n",
       "      <th>3</th>\n",
       "      <td>Adm-clerical</td>\n",
       "      <td>0.136874</td>\n",
       "    </tr>\n",
       "    <tr>\n",
       "      <th>5</th>\n",
       "      <td>Armed-Forces</td>\n",
       "      <td>0.333333</td>\n",
       "    </tr>\n",
       "    <tr>\n",
       "      <th>7</th>\n",
       "      <td>Craft-repair</td>\n",
       "      <td>0.226276</td>\n",
       "    </tr>\n",
       "    <tr>\n",
       "      <th>9</th>\n",
       "      <td>Exec-managerial</td>\n",
       "      <td>0.477818</td>\n",
       "    </tr>\n",
       "    <tr>\n",
       "      <th>11</th>\n",
       "      <td>Farming-fishing</td>\n",
       "      <td>0.116107</td>\n",
       "    </tr>\n",
       "    <tr>\n",
       "      <th>13</th>\n",
       "      <td>Handlers-cleaners</td>\n",
       "      <td>0.066602</td>\n",
       "    </tr>\n",
       "    <tr>\n",
       "      <th>15</th>\n",
       "      <td>Machine-op-inspct</td>\n",
       "      <td>0.123097</td>\n",
       "    </tr>\n",
       "    <tr>\n",
       "      <th>17</th>\n",
       "      <td>Other-service</td>\n",
       "      <td>0.041438</td>\n",
       "    </tr>\n",
       "    <tr>\n",
       "      <th>19</th>\n",
       "      <td>Priv-house-serv</td>\n",
       "      <td>0.012397</td>\n",
       "    </tr>\n",
       "    <tr>\n",
       "      <th>21</th>\n",
       "      <td>Prof-specialty</td>\n",
       "      <td>0.451069</td>\n",
       "    </tr>\n",
       "    <tr>\n",
       "      <th>23</th>\n",
       "      <td>Protective-serv</td>\n",
       "      <td>0.313327</td>\n",
       "    </tr>\n",
       "    <tr>\n",
       "      <th>25</th>\n",
       "      <td>Sales</td>\n",
       "      <td>0.267987</td>\n",
       "    </tr>\n",
       "    <tr>\n",
       "      <th>27</th>\n",
       "      <td>Tech-support</td>\n",
       "      <td>0.290456</td>\n",
       "    </tr>\n",
       "    <tr>\n",
       "      <th>29</th>\n",
       "      <td>Transport-moving</td>\n",
       "      <td>0.204246</td>\n",
       "    </tr>\n",
       "  </tbody>\n",
       "</table>\n",
       "</div>"
      ],
      "text/plain": [
       "           occupation  percentage\n",
       "1                   ?    0.094340\n",
       "3        Adm-clerical    0.136874\n",
       "5        Armed-Forces    0.333333\n",
       "7        Craft-repair    0.226276\n",
       "9     Exec-managerial    0.477818\n",
       "11    Farming-fishing    0.116107\n",
       "13  Handlers-cleaners    0.066602\n",
       "15  Machine-op-inspct    0.123097\n",
       "17      Other-service    0.041438\n",
       "19    Priv-house-serv    0.012397\n",
       "21     Prof-specialty    0.451069\n",
       "23    Protective-serv    0.313327\n",
       "25              Sales    0.267987\n",
       "27       Tech-support    0.290456\n",
       "29   Transport-moving    0.204246"
      ]
     },
     "execution_count": 99,
     "metadata": {},
     "output_type": "execute_result"
    }
   ],
   "source": [
    "temp = df.groupby('occupation')['income'].value_counts(normalize=True)\n",
    "\n",
    "temp = pd.DataFrame(temp)\n",
    "\n",
    "temp.rename(columns={'income':'percentage'}, inplace=True)\n",
    "\n",
    "temp = temp.reset_index()\n",
    "\n",
    "temp3 = temp[temp.income == '>50K']\n",
    "\n",
    "temp3 = temp3[['occupation','percentage' ]]\n",
    "\n",
    "temp3"
   ]
  },
  {
   "cell_type": "code",
   "execution_count": 95,
   "id": "9212695e",
   "metadata": {},
   "outputs": [
    {
     "data": {
      "text/html": [
       "<div>\n",
       "<style scoped>\n",
       "    .dataframe tbody tr th:only-of-type {\n",
       "        vertical-align: middle;\n",
       "    }\n",
       "\n",
       "    .dataframe tbody tr th {\n",
       "        vertical-align: top;\n",
       "    }\n",
       "\n",
       "    .dataframe thead th {\n",
       "        text-align: right;\n",
       "    }\n",
       "</style>\n",
       "<table border=\"1\" class=\"dataframe\">\n",
       "  <thead>\n",
       "    <tr style=\"text-align: right;\">\n",
       "      <th></th>\n",
       "      <th>occupation</th>\n",
       "      <th>count</th>\n",
       "    </tr>\n",
       "  </thead>\n",
       "  <tbody>\n",
       "    <tr>\n",
       "      <th>0</th>\n",
       "      <td>Prof-specialty</td>\n",
       "      <td>6172</td>\n",
       "    </tr>\n",
       "    <tr>\n",
       "      <th>1</th>\n",
       "      <td>Craft-repair</td>\n",
       "      <td>6112</td>\n",
       "    </tr>\n",
       "    <tr>\n",
       "      <th>2</th>\n",
       "      <td>Exec-managerial</td>\n",
       "      <td>6086</td>\n",
       "    </tr>\n",
       "    <tr>\n",
       "      <th>3</th>\n",
       "      <td>Adm-clerical</td>\n",
       "      <td>5611</td>\n",
       "    </tr>\n",
       "    <tr>\n",
       "      <th>4</th>\n",
       "      <td>Sales</td>\n",
       "      <td>5504</td>\n",
       "    </tr>\n",
       "    <tr>\n",
       "      <th>5</th>\n",
       "      <td>Other-service</td>\n",
       "      <td>4923</td>\n",
       "    </tr>\n",
       "    <tr>\n",
       "      <th>6</th>\n",
       "      <td>Machine-op-inspct</td>\n",
       "      <td>3022</td>\n",
       "    </tr>\n",
       "    <tr>\n",
       "      <th>7</th>\n",
       "      <td>?</td>\n",
       "      <td>2809</td>\n",
       "    </tr>\n",
       "    <tr>\n",
       "      <th>8</th>\n",
       "      <td>Transport-moving</td>\n",
       "      <td>2355</td>\n",
       "    </tr>\n",
       "    <tr>\n",
       "      <th>9</th>\n",
       "      <td>Handlers-cleaners</td>\n",
       "      <td>2072</td>\n",
       "    </tr>\n",
       "    <tr>\n",
       "      <th>10</th>\n",
       "      <td>Farming-fishing</td>\n",
       "      <td>1490</td>\n",
       "    </tr>\n",
       "    <tr>\n",
       "      <th>11</th>\n",
       "      <td>Tech-support</td>\n",
       "      <td>1446</td>\n",
       "    </tr>\n",
       "    <tr>\n",
       "      <th>12</th>\n",
       "      <td>Protective-serv</td>\n",
       "      <td>983</td>\n",
       "    </tr>\n",
       "    <tr>\n",
       "      <th>13</th>\n",
       "      <td>Priv-house-serv</td>\n",
       "      <td>242</td>\n",
       "    </tr>\n",
       "    <tr>\n",
       "      <th>14</th>\n",
       "      <td>Armed-Forces</td>\n",
       "      <td>15</td>\n",
       "    </tr>\n",
       "  </tbody>\n",
       "</table>\n",
       "</div>"
      ],
      "text/plain": [
       "           occupation  count\n",
       "0      Prof-specialty   6172\n",
       "1        Craft-repair   6112\n",
       "2     Exec-managerial   6086\n",
       "3        Adm-clerical   5611\n",
       "4               Sales   5504\n",
       "5       Other-service   4923\n",
       "6   Machine-op-inspct   3022\n",
       "7                   ?   2809\n",
       "8    Transport-moving   2355\n",
       "9   Handlers-cleaners   2072\n",
       "10    Farming-fishing   1490\n",
       "11       Tech-support   1446\n",
       "12    Protective-serv    983\n",
       "13    Priv-house-serv    242\n",
       "14       Armed-Forces     15"
      ]
     },
     "execution_count": 95,
     "metadata": {},
     "output_type": "execute_result"
    }
   ],
   "source": [
    "temp2 = df['occupation'].value_counts()\n",
    "\n",
    "temp2 = pd.DataFrame(temp2).reset_index()\n",
    "\n",
    "temp2.rename(columns={'index':'occupation','occupation':'count'} , inplace=True )\n",
    "\n",
    "temp2\n"
   ]
  },
  {
   "cell_type": "code",
   "execution_count": 107,
   "id": "55937f49",
   "metadata": {},
   "outputs": [
    {
     "data": {
      "text/html": [
       "<div>\n",
       "<style scoped>\n",
       "    .dataframe tbody tr th:only-of-type {\n",
       "        vertical-align: middle;\n",
       "    }\n",
       "\n",
       "    .dataframe tbody tr th {\n",
       "        vertical-align: top;\n",
       "    }\n",
       "\n",
       "    .dataframe thead th {\n",
       "        text-align: right;\n",
       "    }\n",
       "</style>\n",
       "<table border=\"1\" class=\"dataframe\">\n",
       "  <thead>\n",
       "    <tr style=\"text-align: right;\">\n",
       "      <th></th>\n",
       "      <th>occupation</th>\n",
       "      <th>count</th>\n",
       "      <th>%_over_50K</th>\n",
       "    </tr>\n",
       "  </thead>\n",
       "  <tbody>\n",
       "    <tr>\n",
       "      <th>0</th>\n",
       "      <td>Prof-specialty</td>\n",
       "      <td>6172</td>\n",
       "      <td>0.451069</td>\n",
       "    </tr>\n",
       "    <tr>\n",
       "      <th>1</th>\n",
       "      <td>Craft-repair</td>\n",
       "      <td>6112</td>\n",
       "      <td>0.226276</td>\n",
       "    </tr>\n",
       "    <tr>\n",
       "      <th>2</th>\n",
       "      <td>Exec-managerial</td>\n",
       "      <td>6086</td>\n",
       "      <td>0.477818</td>\n",
       "    </tr>\n",
       "    <tr>\n",
       "      <th>3</th>\n",
       "      <td>Adm-clerical</td>\n",
       "      <td>5611</td>\n",
       "      <td>0.136874</td>\n",
       "    </tr>\n",
       "    <tr>\n",
       "      <th>4</th>\n",
       "      <td>Sales</td>\n",
       "      <td>5504</td>\n",
       "      <td>0.267987</td>\n",
       "    </tr>\n",
       "    <tr>\n",
       "      <th>5</th>\n",
       "      <td>Other-service</td>\n",
       "      <td>4923</td>\n",
       "      <td>0.041438</td>\n",
       "    </tr>\n",
       "    <tr>\n",
       "      <th>6</th>\n",
       "      <td>Machine-op-inspct</td>\n",
       "      <td>3022</td>\n",
       "      <td>0.123097</td>\n",
       "    </tr>\n",
       "    <tr>\n",
       "      <th>7</th>\n",
       "      <td>?</td>\n",
       "      <td>2809</td>\n",
       "      <td>0.094340</td>\n",
       "    </tr>\n",
       "    <tr>\n",
       "      <th>8</th>\n",
       "      <td>Transport-moving</td>\n",
       "      <td>2355</td>\n",
       "      <td>0.204246</td>\n",
       "    </tr>\n",
       "    <tr>\n",
       "      <th>9</th>\n",
       "      <td>Handlers-cleaners</td>\n",
       "      <td>2072</td>\n",
       "      <td>0.066602</td>\n",
       "    </tr>\n",
       "    <tr>\n",
       "      <th>10</th>\n",
       "      <td>Farming-fishing</td>\n",
       "      <td>1490</td>\n",
       "      <td>0.116107</td>\n",
       "    </tr>\n",
       "    <tr>\n",
       "      <th>11</th>\n",
       "      <td>Tech-support</td>\n",
       "      <td>1446</td>\n",
       "      <td>0.290456</td>\n",
       "    </tr>\n",
       "    <tr>\n",
       "      <th>12</th>\n",
       "      <td>Protective-serv</td>\n",
       "      <td>983</td>\n",
       "      <td>0.313327</td>\n",
       "    </tr>\n",
       "    <tr>\n",
       "      <th>13</th>\n",
       "      <td>Priv-house-serv</td>\n",
       "      <td>242</td>\n",
       "      <td>0.012397</td>\n",
       "    </tr>\n",
       "    <tr>\n",
       "      <th>14</th>\n",
       "      <td>Armed-Forces</td>\n",
       "      <td>15</td>\n",
       "      <td>0.333333</td>\n",
       "    </tr>\n",
       "  </tbody>\n",
       "</table>\n",
       "</div>"
      ],
      "text/plain": [
       "           occupation  count  %_over_50K\n",
       "0      Prof-specialty   6172    0.451069\n",
       "1        Craft-repair   6112    0.226276\n",
       "2     Exec-managerial   6086    0.477818\n",
       "3        Adm-clerical   5611    0.136874\n",
       "4               Sales   5504    0.267987\n",
       "5       Other-service   4923    0.041438\n",
       "6   Machine-op-inspct   3022    0.123097\n",
       "7                   ?   2809    0.094340\n",
       "8    Transport-moving   2355    0.204246\n",
       "9   Handlers-cleaners   2072    0.066602\n",
       "10    Farming-fishing   1490    0.116107\n",
       "11       Tech-support   1446    0.290456\n",
       "12    Protective-serv    983    0.313327\n",
       "13    Priv-house-serv    242    0.012397\n",
       "14       Armed-Forces     15    0.333333"
      ]
     },
     "execution_count": 107,
     "metadata": {},
     "output_type": "execute_result"
    }
   ],
   "source": [
    "\n",
    "t4 = pd.merge( temp2, temp3)\n",
    "\n",
    "t4.rename( columns={'percentage':'%_over_50K'}, inplace=True  )\n",
    "\n",
    "t4"
   ]
  },
  {
   "cell_type": "markdown",
   "id": "f9f3e1b5",
   "metadata": {},
   "source": [
    "Take-aways from this dataframe, summarizing income by occupation:\n",
    "\n",
    "The most common occupation in this dataset is 'Prof-specialty', and 45% of this occupation makes over $50k.\n",
    "The next most common occupation is 'Craft-repair' and 22.6% of this occupation makes over $50k.\n",
    "\n",
    "\n",
    "\n"
   ]
  },
  {
   "cell_type": "code",
   "execution_count": 108,
   "id": "74aab737",
   "metadata": {},
   "outputs": [
    {
     "data": {
      "text/plain": [
       "Husband           19716\n",
       "Not-in-family     12583\n",
       "Own-child          7581\n",
       "Unmarried          5125\n",
       "Wife               2331\n",
       "Other-relative     1506\n",
       "Name: relationship, dtype: int64"
      ]
     },
     "execution_count": 108,
     "metadata": {},
     "output_type": "execute_result"
    }
   ],
   "source": [
    "df['relationship'].value_counts() ### Going to skip this column for now."
   ]
  },
  {
   "cell_type": "code",
   "execution_count": 109,
   "id": "f4a3e439",
   "metadata": {},
   "outputs": [
    {
     "data": {
      "text/plain": [
       "White                 41762\n",
       "Black                  4685\n",
       "Asian-Pac-Islander     1519\n",
       "Amer-Indian-Eskimo      470\n",
       "Other                   406\n",
       "Name: race, dtype: int64"
      ]
     },
     "execution_count": 109,
     "metadata": {},
     "output_type": "execute_result"
    }
   ],
   "source": [
    "df['race'].value_counts()"
   ]
  },
  {
   "cell_type": "code",
   "execution_count": 110,
   "id": "410bb02b",
   "metadata": {},
   "outputs": [
    {
     "data": {
      "text/plain": [
       "race                income\n",
       "Amer-Indian-Eskimo  <=50K     0.882979\n",
       "                    >50K      0.117021\n",
       "Asian-Pac-Islander  <=50K     0.730744\n",
       "                    >50K      0.269256\n",
       "Black               <=50K     0.879189\n",
       "                    >50K      0.120811\n",
       "Other               <=50K     0.876847\n",
       "                    >50K      0.123153\n",
       "White               <=50K     0.746013\n",
       "                    >50K      0.253987\n",
       "Name: income, dtype: float64"
      ]
     },
     "execution_count": 110,
     "metadata": {},
     "output_type": "execute_result"
    }
   ],
   "source": [
    "df.groupby('race')['income'].value_counts(normalize=True)"
   ]
  },
  {
   "cell_type": "code",
   "execution_count": 111,
   "id": "86276b0e",
   "metadata": {},
   "outputs": [
    {
     "data": {
      "text/plain": [
       "gender  income\n",
       "Female  <=50K     0.890749\n",
       "        >50K      0.109251\n",
       "Male    <=50K     0.696233\n",
       "        >50K      0.303767\n",
       "Name: income, dtype: float64"
      ]
     },
     "execution_count": 111,
     "metadata": {},
     "output_type": "execute_result"
    }
   ],
   "source": [
    "df.groupby('gender')['income'].value_counts(normalize=True)"
   ]
  },
  {
   "cell_type": "code",
   "execution_count": 112,
   "id": "9fc30e73",
   "metadata": {},
   "outputs": [
    {
     "data": {
      "text/plain": [
       "race                gender  income\n",
       "Amer-Indian-Eskimo  Female  <=50K     0.918919\n",
       "                            >50K      0.081081\n",
       "                    Male    <=50K     0.859649\n",
       "                            >50K      0.140351\n",
       "Asian-Pac-Islander  Female  <=50K     0.866538\n",
       "                            >50K      0.133462\n",
       "                    Male    <=50K     0.660679\n",
       "                            >50K      0.339321\n",
       "Black               Female  <=50K     0.942808\n",
       "                            >50K      0.057192\n",
       "                    Male    <=50K     0.817417\n",
       "                            >50K      0.182583\n",
       "Other               Female  <=50K     0.929032\n",
       "                            >50K      0.070968\n",
       "                    Male    <=50K     0.844622\n",
       "                            >50K      0.155378\n",
       "White               Female  <=50K     0.881630\n",
       "                            >50K      0.118370\n",
       "                    Male    <=50K     0.684531\n",
       "                            >50K      0.315469\n",
       "Name: income, dtype: float64"
      ]
     },
     "execution_count": 112,
     "metadata": {},
     "output_type": "execute_result"
    }
   ],
   "source": [
    "df.groupby(['race','gender'])['income'].value_counts(normalize=True)"
   ]
  },
  {
   "cell_type": "code",
   "execution_count": 118,
   "id": "91405093",
   "metadata": {},
   "outputs": [
    {
     "data": {
      "text/html": [
       "<div>\n",
       "<style scoped>\n",
       "    .dataframe tbody tr th:only-of-type {\n",
       "        vertical-align: middle;\n",
       "    }\n",
       "\n",
       "    .dataframe tbody tr th {\n",
       "        vertical-align: top;\n",
       "    }\n",
       "\n",
       "    .dataframe thead th {\n",
       "        text-align: right;\n",
       "    }\n",
       "</style>\n",
       "<table border=\"1\" class=\"dataframe\">\n",
       "  <thead>\n",
       "    <tr style=\"text-align: right;\">\n",
       "      <th>gender</th>\n",
       "      <th>Female</th>\n",
       "      <th>Male</th>\n",
       "    </tr>\n",
       "    <tr>\n",
       "      <th>race</th>\n",
       "      <th></th>\n",
       "      <th></th>\n",
       "    </tr>\n",
       "  </thead>\n",
       "  <tbody>\n",
       "    <tr>\n",
       "      <th>Amer-Indian-Eskimo</th>\n",
       "      <td>0.081081</td>\n",
       "      <td>0.140351</td>\n",
       "    </tr>\n",
       "    <tr>\n",
       "      <th>Asian-Pac-Islander</th>\n",
       "      <td>0.133462</td>\n",
       "      <td>0.339321</td>\n",
       "    </tr>\n",
       "    <tr>\n",
       "      <th>Black</th>\n",
       "      <td>0.057192</td>\n",
       "      <td>0.182583</td>\n",
       "    </tr>\n",
       "    <tr>\n",
       "      <th>Other</th>\n",
       "      <td>0.070968</td>\n",
       "      <td>0.155378</td>\n",
       "    </tr>\n",
       "    <tr>\n",
       "      <th>White</th>\n",
       "      <td>0.118370</td>\n",
       "      <td>0.315469</td>\n",
       "    </tr>\n",
       "  </tbody>\n",
       "</table>\n",
       "</div>"
      ],
      "text/plain": [
       "gender                Female      Male\n",
       "race                                  \n",
       "Amer-Indian-Eskimo  0.081081  0.140351\n",
       "Asian-Pac-Islander  0.133462  0.339321\n",
       "Black               0.057192  0.182583\n",
       "Other               0.070968  0.155378\n",
       "White               0.118370  0.315469"
      ]
     },
     "execution_count": 118,
     "metadata": {},
     "output_type": "execute_result"
    }
   ],
   "source": [
    "df.head()\n",
    "\n",
    "def afunc(mylist):\n",
    "    return sum(mylist == '>50K') / len(mylist)\n",
    "\n",
    "\n",
    "table = pd.pivot_table(df, values='income', index=['race'], columns=['gender'], aggfunc=afunc)\n",
    "\n",
    "table\n"
   ]
  },
  {
   "cell_type": "markdown",
   "id": "9c7a5538",
   "metadata": {},
   "source": [
    "\n",
    "The Males:\n",
    "31.5% of White Males have income over $50K\n",
    "18.3% of Black Males have income over $50K\n",
    "33.9% of Asian/Pacific Islander Males have income over $50K\n",
    "14.0% of American Indian/Eskimo Males have income over $50K\n",
    "15.5% of 'Other' Males have income over $50K\n",
    "\n",
    "The Females:\n",
    "11.8% of White Females have income over $50K\n",
    " 5.7% of Black Females have income over $50K\n",
    "13.3% of Asian/Pacific Islander Females have income over $50K\n",
    " 8.1% of American Indian/Eskimo Females have income over $50K\n",
    " 7.1% of 'Other' Females have income over $50K\n",
    "\n",
    "\n"
   ]
  },
  {
   "cell_type": "code",
   "execution_count": 119,
   "id": "b8757cff",
   "metadata": {},
   "outputs": [
    {
     "data": {
      "text/html": [
       "<div>\n",
       "<style scoped>\n",
       "    .dataframe tbody tr th:only-of-type {\n",
       "        vertical-align: middle;\n",
       "    }\n",
       "\n",
       "    .dataframe tbody tr th {\n",
       "        vertical-align: top;\n",
       "    }\n",
       "\n",
       "    .dataframe thead th {\n",
       "        text-align: right;\n",
       "    }\n",
       "</style>\n",
       "<table border=\"1\" class=\"dataframe\">\n",
       "  <thead>\n",
       "    <tr style=\"text-align: right;\">\n",
       "      <th>gender</th>\n",
       "      <th>Female</th>\n",
       "      <th>Male</th>\n",
       "    </tr>\n",
       "    <tr>\n",
       "      <th>race</th>\n",
       "      <th></th>\n",
       "      <th></th>\n",
       "    </tr>\n",
       "  </thead>\n",
       "  <tbody>\n",
       "    <tr>\n",
       "      <th>Amer-Indian-Eskimo</th>\n",
       "      <td>185</td>\n",
       "      <td>285</td>\n",
       "    </tr>\n",
       "    <tr>\n",
       "      <th>Asian-Pac-Islander</th>\n",
       "      <td>517</td>\n",
       "      <td>1002</td>\n",
       "    </tr>\n",
       "    <tr>\n",
       "      <th>Black</th>\n",
       "      <td>2308</td>\n",
       "      <td>2377</td>\n",
       "    </tr>\n",
       "    <tr>\n",
       "      <th>Other</th>\n",
       "      <td>155</td>\n",
       "      <td>251</td>\n",
       "    </tr>\n",
       "    <tr>\n",
       "      <th>White</th>\n",
       "      <td>13027</td>\n",
       "      <td>28735</td>\n",
       "    </tr>\n",
       "  </tbody>\n",
       "</table>\n",
       "</div>"
      ],
      "text/plain": [
       "gender              Female   Male\n",
       "race                             \n",
       "Amer-Indian-Eskimo     185    285\n",
       "Asian-Pac-Islander     517   1002\n",
       "Black                 2308   2377\n",
       "Other                  155    251\n",
       "White                13027  28735"
      ]
     },
     "execution_count": 119,
     "metadata": {},
     "output_type": "execute_result"
    }
   ],
   "source": [
    "pd.pivot_table(df, values='income', index=['race'], columns=['gender'], aggfunc=len )\n"
   ]
  },
  {
   "cell_type": "code",
   "execution_count": 122,
   "id": "d9f72a0d",
   "metadata": {},
   "outputs": [
    {
     "data": {
      "text/plain": [
       "True     43832\n",
       "False     5010\n",
       "Name: US-native, dtype: int64"
      ]
     },
     "execution_count": 122,
     "metadata": {},
     "output_type": "execute_result"
    }
   ],
   "source": [
    "df['native-country'].value_counts()\n",
    "\n",
    "df['US-native'] = df['native-country'] == 'United-States'\n",
    "\n",
    "df['US-native'].value_counts()\n"
   ]
  },
  {
   "cell_type": "code",
   "execution_count": 123,
   "id": "83dd345f",
   "metadata": {},
   "outputs": [
    {
     "data": {
      "text/plain": [
       "US-native  income\n",
       "False      <=50K     0.801796\n",
       "           >50K      0.198204\n",
       "True       <=50K     0.756023\n",
       "           >50K      0.243977\n",
       "Name: income, dtype: float64"
      ]
     },
     "execution_count": 123,
     "metadata": {},
     "output_type": "execute_result"
    }
   ],
   "source": [
    "df.groupby('US-native')['income'].value_counts(normalize=True)"
   ]
  },
  {
   "cell_type": "code",
   "execution_count": null,
   "id": "a70c221d",
   "metadata": {},
   "outputs": [],
   "source": [
    "### 24.4% of US native-born people make over $50K\n",
    "### 19.8% of non native-born people make over $50K\n"
   ]
  },
  {
   "cell_type": "code",
   "execution_count": 130,
   "id": "ce8cada1",
   "metadata": {},
   "outputs": [
    {
     "data": {
      "text/plain": [
       "<AxesSubplot:xlabel='hours-per-week', ylabel='Count'>"
      ]
     },
     "execution_count": 130,
     "metadata": {},
     "output_type": "execute_result"
    },
    {
     "data": {
      "image/png": "[encoded data removed]",
      "text/plain": [
       "<Figure size 432x288 with 1 Axes>"
      ]
     },
     "metadata": {
      "needs_background": "light"
     },
     "output_type": "display_data"
    }
   ],
   "source": [
    "df['hours-per-week'].value_counts()\n",
    "\n",
    "sns.histplot( data=df['hours-per-week'] )"
   ]
  },
  {
   "cell_type": "code",
   "execution_count": 133,
   "id": "e6c809f3",
   "metadata": {},
   "outputs": [
    {
     "data": {
      "text/plain": [
       "40    22803\n",
       "50     4246\n",
       "45     2717\n",
       "60     2177\n",
       "35     1937\n",
       "20     1862\n",
       "30     1700\n",
       "55     1051\n",
       "25      958\n",
       "48      770\n",
       "Name: hours-per-week, dtype: int64"
      ]
     },
     "execution_count": 133,
     "metadata": {},
     "output_type": "execute_result"
    }
   ],
   "source": [
    "df['hours-per-week'].value_counts().head(10)"
   ]
  },
  {
   "cell_type": "code",
   "execution_count": 141,
   "id": "8ebafbb2",
   "metadata": {},
   "outputs": [
    {
     "data": {
      "text/plain": [
       "40         22803\n",
       "Over40     14352\n",
       "Under40    11687\n",
       "Name: OverUnder, dtype: int64"
      ]
     },
     "execution_count": 141,
     "metadata": {},
     "output_type": "execute_result"
    }
   ],
   "source": [
    "df['OverUnder'] = '40'\n",
    "\n",
    "df.loc[df['hours-per-week'] < 40 , 'OverUnder'] = 'Under40'\n",
    "df.loc[df['hours-per-week'] > 40 , 'OverUnder'] = 'Over40'\n",
    "\n",
    "df.OverUnder.value_counts()\n"
   ]
  },
  {
   "cell_type": "code",
   "execution_count": 142,
   "id": "055d6f55",
   "metadata": {},
   "outputs": [
    {
     "data": {
      "text/plain": [
       "OverUnder  income\n",
       "40         <=50K     0.787309\n",
       "           >50K      0.212691\n",
       "Over40     <=50K     0.599916\n",
       "           >50K      0.400084\n",
       "Under40    <=50K     0.906306\n",
       "           >50K      0.093694\n",
       "Name: income, dtype: float64"
      ]
     },
     "execution_count": 142,
     "metadata": {},
     "output_type": "execute_result"
    }
   ],
   "source": [
    "df.groupby('OverUnder')['income'].value_counts(normalize=True)"
   ]
  },
  {
   "cell_type": "code",
   "execution_count": null,
   "id": "9e644b8c",
   "metadata": {},
   "outputs": [],
   "source": [
    "### Hours worked does seem to matter!\n",
    "### 21.2% of those working 40 hours per week earn over $50K\n",
    "###  9.3% of those working under 40 hours per week earn over $50K\n",
    "### 40.0% of those working over 40 hours per week earn over $50K\n"
   ]
  },
  {
   "cell_type": "code",
   "execution_count": 149,
   "id": "75a5d886",
   "metadata": {},
   "outputs": [
    {
     "name": "stdout",
     "output_type": "stream",
     "text": [
      "Int64Index([40, 50, 45, 60, 35, 20, 30, 55, 25, 48, 38, 15, 70, 10, 32], dtype='int64')\n"
     ]
    },
    {
     "data": {
      "text/plain": [
       "40       22803\n",
       "Other     5999\n",
       "50        4246\n",
       "45        2717\n",
       "60        2177\n",
       "35        1937\n",
       "20        1862\n",
       "30        1700\n",
       "55        1051\n",
       "25         958\n",
       "48         770\n",
       "38         714\n",
       "15         623\n",
       "70         437\n",
       "10         425\n",
       "32         423\n",
       "Name: hpw, dtype: int64"
      ]
     },
     "execution_count": 149,
     "metadata": {},
     "output_type": "execute_result"
    }
   ],
   "source": [
    "df['hours-per-week'].value_counts().head(15)\n",
    "\n",
    "HoursList = df['hours-per-week'].value_counts().head(15).index\n",
    "\n",
    "print(HoursList)\n",
    "\n",
    "df['hpw'] = df['hours-per-week']\n",
    "\n",
    "df.loc[ ~df['hours-per-week'].isin(HoursList) , 'hpw' ] = 'Other'\n",
    "\n",
    "df['hpw'].value_counts()\n"
   ]
  },
  {
   "cell_type": "code",
   "execution_count": 155,
   "id": "a7fd922c",
   "metadata": {},
   "outputs": [
    {
     "data": {
      "text/html": [
       "<div>\n",
       "<style scoped>\n",
       "    .dataframe tbody tr th:only-of-type {\n",
       "        vertical-align: middle;\n",
       "    }\n",
       "\n",
       "    .dataframe tbody tr th {\n",
       "        vertical-align: top;\n",
       "    }\n",
       "\n",
       "    .dataframe thead th {\n",
       "        text-align: right;\n",
       "    }\n",
       "</style>\n",
       "<table border=\"1\" class=\"dataframe\">\n",
       "  <thead>\n",
       "    <tr style=\"text-align: right;\">\n",
       "      <th></th>\n",
       "      <th>hpw</th>\n",
       "      <th>income</th>\n",
       "      <th>%_over_$50K</th>\n",
       "    </tr>\n",
       "  </thead>\n",
       "  <tbody>\n",
       "    <tr>\n",
       "      <th>1</th>\n",
       "      <td>10</td>\n",
       "      <td>&gt;50K</td>\n",
       "      <td>0.077647</td>\n",
       "    </tr>\n",
       "    <tr>\n",
       "      <th>3</th>\n",
       "      <td>15</td>\n",
       "      <td>&gt;50K</td>\n",
       "      <td>0.048154</td>\n",
       "    </tr>\n",
       "    <tr>\n",
       "      <th>5</th>\n",
       "      <td>20</td>\n",
       "      <td>&gt;50K</td>\n",
       "      <td>0.060150</td>\n",
       "    </tr>\n",
       "    <tr>\n",
       "      <th>7</th>\n",
       "      <td>25</td>\n",
       "      <td>&gt;50K</td>\n",
       "      <td>0.051148</td>\n",
       "    </tr>\n",
       "    <tr>\n",
       "      <th>9</th>\n",
       "      <td>30</td>\n",
       "      <td>&gt;50K</td>\n",
       "      <td>0.068235</td>\n",
       "    </tr>\n",
       "    <tr>\n",
       "      <th>11</th>\n",
       "      <td>32</td>\n",
       "      <td>&gt;50K</td>\n",
       "      <td>0.101655</td>\n",
       "    </tr>\n",
       "    <tr>\n",
       "      <th>13</th>\n",
       "      <td>35</td>\n",
       "      <td>&gt;50K</td>\n",
       "      <td>0.146618</td>\n",
       "    </tr>\n",
       "    <tr>\n",
       "      <th>15</th>\n",
       "      <td>38</td>\n",
       "      <td>&gt;50K</td>\n",
       "      <td>0.182073</td>\n",
       "    </tr>\n",
       "    <tr>\n",
       "      <th>17</th>\n",
       "      <td>40</td>\n",
       "      <td>&gt;50K</td>\n",
       "      <td>0.212691</td>\n",
       "    </tr>\n",
       "    <tr>\n",
       "      <th>19</th>\n",
       "      <td>45</td>\n",
       "      <td>&gt;50K</td>\n",
       "      <td>0.370629</td>\n",
       "    </tr>\n",
       "    <tr>\n",
       "      <th>21</th>\n",
       "      <td>48</td>\n",
       "      <td>&gt;50K</td>\n",
       "      <td>0.323377</td>\n",
       "    </tr>\n",
       "    <tr>\n",
       "      <th>23</th>\n",
       "      <td>50</td>\n",
       "      <td>&gt;50K</td>\n",
       "      <td>0.447715</td>\n",
       "    </tr>\n",
       "    <tr>\n",
       "      <th>25</th>\n",
       "      <td>55</td>\n",
       "      <td>&gt;50K</td>\n",
       "      <td>0.466223</td>\n",
       "    </tr>\n",
       "    <tr>\n",
       "      <th>27</th>\n",
       "      <td>60</td>\n",
       "      <td>&gt;50K</td>\n",
       "      <td>0.438218</td>\n",
       "    </tr>\n",
       "    <tr>\n",
       "      <th>29</th>\n",
       "      <td>70</td>\n",
       "      <td>&gt;50K</td>\n",
       "      <td>0.354691</td>\n",
       "    </tr>\n",
       "    <tr>\n",
       "      <th>31</th>\n",
       "      <td>Other</td>\n",
       "      <td>&gt;50K</td>\n",
       "      <td>0.214036</td>\n",
       "    </tr>\n",
       "  </tbody>\n",
       "</table>\n",
       "</div>"
      ],
      "text/plain": [
       "      hpw income  %_over_$50K\n",
       "1      10   >50K     0.077647\n",
       "3      15   >50K     0.048154\n",
       "5      20   >50K     0.060150\n",
       "7      25   >50K     0.051148\n",
       "9      30   >50K     0.068235\n",
       "11     32   >50K     0.101655\n",
       "13     35   >50K     0.146618\n",
       "15     38   >50K     0.182073\n",
       "17     40   >50K     0.212691\n",
       "19     45   >50K     0.370629\n",
       "21     48   >50K     0.323377\n",
       "23     50   >50K     0.447715\n",
       "25     55   >50K     0.466223\n",
       "27     60   >50K     0.438218\n",
       "29     70   >50K     0.354691\n",
       "31  Other   >50K     0.214036"
      ]
     },
     "execution_count": 155,
     "metadata": {},
     "output_type": "execute_result"
    }
   ],
   "source": [
    "tmp = df.groupby('hpw')['income'].value_counts(normalize=True)\n",
    "\n",
    "tmp = pd.DataFrame(tmp).rename(columns={'income':'%_over_$50K'})\n",
    "\n",
    "tmp = tmp.reset_index()\n",
    "\n",
    "tmp2 = tmp.loc[tmp.income == '>50K',:]\n",
    "\n",
    "tmp2"
   ]
  },
  {
   "cell_type": "code",
   "execution_count": 158,
   "id": "0e68a651",
   "metadata": {},
   "outputs": [
    {
     "data": {
      "text/plain": [
       "Text(0.5, 1.0, '% over $50K Income by Hours worked per Week')"
      ]
     },
     "execution_count": 158,
     "metadata": {},
     "output_type": "execute_result"
    },
    {
     "data": {
      "image/png": "[encoded data removed]",
      "text/plain": [
       "<Figure size 432x288 with 1 Axes>"
      ]
     },
     "metadata": {
      "needs_background": "light"
     },
     "output_type": "display_data"
    }
   ],
   "source": [
    "data = tmp2.loc[tmp2.hpw.isin(HoursList),]\n",
    "\n",
    "sns.lineplot(x='hpw', y='%_over_$50K', data=data).set_title('% over $50K Income by Hours worked per Week')"
   ]
  },
  {
   "cell_type": "markdown",
   "id": "457b2d1d",
   "metadata": {},
   "source": [
    "\n",
    "Take-away from the above line plot:\n",
    "\n",
    "Those working up to 30 hours per week have a lower than 10\\% chance of making over \\\\$50K per year.\n",
    "\n",
    "Between 30 and 50 hours per week, the chances of making over \\\\$50K per year increase as hours worked increases.\n",
    "\n",
    "Those working 40 hours per week (the majority of people) have a 21.3\\% chance of making over \\\\$50K\n",
    "\n",
    "Those working 50 hours per week have a 44.8\\% chance of making over \\\\$50K\n",
    "\n",
    "Those working 55 hours per week have a 46.6\\% chance of making over \\\\$50K\n",
    "\n"
   ]
  },
  {
   "cell_type": "code",
   "execution_count": 162,
   "id": "4d7b6d8e",
   "metadata": {},
   "outputs": [
    {
     "data": {
      "text/plain": [
       "30s        12929\n",
       "20s        12005\n",
       "40s        10724\n",
       "50s         6619\n",
       "60s         3054\n",
       "Under20     2510\n",
       "70+         1001\n",
       "Name: AgeGroup, dtype: int64"
      ]
     },
     "execution_count": 162,
     "metadata": {},
     "output_type": "execute_result"
    }
   ],
   "source": [
    "### Now returning back to the age variable...\n",
    "\n",
    "df['AgeGroup'] = pd.cut( df.age, bins=[0,19,29,39,49,59,69,100], labels=['Under20','20s','30s','40s','50s','60s','70+'] )\n",
    "\n",
    "df['AgeGroup'].value_counts()\n"
   ]
  },
  {
   "cell_type": "code",
   "execution_count": 163,
   "id": "212a9446",
   "metadata": {},
   "outputs": [
    {
     "data": {
      "text/plain": [
       "AgeGroup  income\n",
       "Under20   <=50K     0.998805\n",
       "          >50K      0.001195\n",
       "20s       <=50K     0.938109\n",
       "          >50K      0.061891\n",
       "30s       <=50K     0.732307\n",
       "          >50K      0.267693\n",
       "40s       <=50K     0.628310\n",
       "          >50K      0.371690\n",
       "50s       <=50K     0.620940\n",
       "          >50K      0.379060\n",
       "60s       <=50K     0.735102\n",
       "          >50K      0.264898\n",
       "70+       <=50K     0.824176\n",
       "          >50K      0.175824\n",
       "Name: income, dtype: float64"
      ]
     },
     "execution_count": 163,
     "metadata": {},
     "output_type": "execute_result"
    }
   ],
   "source": [
    "df.groupby('AgeGroup')['income'].value_counts(normalize=True)"
   ]
  },
  {
   "cell_type": "markdown",
   "id": "1d9da682",
   "metadata": {},
   "source": [
    "# Take-aways of income by Age Group:"
   ]
  },
  {
   "cell_type": "markdown",
   "id": "83ef56f2",
   "metadata": {},
   "source": [
    "\n",
    "Just 0.1\\% of those under 20 years old make over \\\\$50K\n",
    "\n",
    "6.2\\% of people in their 20s make over \\\\$50K\n",
    "\n",
    "26.8\\% of people in their 30s make over \\\\$50K\n",
    "\n",
    "37.2\\% of people in their 40s make over \\\\$50K\n",
    "\n",
    "37.9\\% of people in their 50s make over \\\\$50K\n",
    "\n",
    "26.5\\% of people in their 60s make over \\\\$50K\n",
    "\n",
    "17.6\\% of people 70+ make over \\\\$50K\n",
    "\n"
   ]
  },
  {
   "cell_type": "code",
   "execution_count": null,
   "id": "6a7fac49",
   "metadata": {},
   "outputs": [],
   "source": []
  },
  {
   "cell_type": "code",
   "execution_count": null,
   "id": "03e9af63",
   "metadata": {},
   "outputs": [],
   "source": []
  },
  {
   "cell_type": "code",
   "execution_count": null,
   "id": "887060e3",
   "metadata": {},
   "outputs": [],
   "source": []
  },
  {
   "cell_type": "code",
   "execution_count": null,
   "id": "f51443ee",
   "metadata": {},
   "outputs": [],
   "source": []
  },
  {
   "cell_type": "code",
   "execution_count": null,
   "id": "301f4c6c",
   "metadata": {},
   "outputs": [],
   "source": []
  },
  {
   "cell_type": "code",
   "execution_count": null,
   "id": "09ed9295",
   "metadata": {},
   "outputs": [],
   "source": []
  },
  {
   "cell_type": "code",
   "execution_count": null,
   "id": "b68c9432",
   "metadata": {},
   "outputs": [],
   "source": []
  },
  {
   "cell_type": "code",
   "execution_count": null,
   "id": "2d71cee9",
   "metadata": {},
   "outputs": [],
   "source": []
  }
 ],
 "metadata": {
  "kernelspec": {
   "display_name": "Python 3",
   "language": "python",
   "name": "python3"
  },
  "language_info": {
   "codemirror_mode": {
    "name": "ipython",
    "version": 3
   },
   "file_extension": ".py",
   "mimetype": "text/x-python",
   "name": "python",
   "nbconvert_exporter": "python",
   "pygments_lexer": "ipython3",
   "version": "3.8.8"
  }
 },
 "nbformat": 4,
 "nbformat_minor": 5
}
